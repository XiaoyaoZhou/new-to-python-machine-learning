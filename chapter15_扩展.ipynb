{
 "cells": [
  {
   "cell_type": "markdown",
   "metadata": {},
   "source": [
    "# chapter15"
   ]
  },
  {
   "cell_type": "markdown",
   "metadata": {},
   "source": [
    "## 15.2 "
   ]
  },
  {
   "cell_type": "markdown",
   "metadata": {},
   "source": [
    "1：***Spark***计算引擎，为大规模数据处理而设计的快速通用的计算引擎，并行计算；  \n",
    "2：***深度学习开源框架***：Tensorflow,Caffe,Keras   \n",
    "3：使用***概率模型***进行推理"
   ]
  },
  {
   "cell_type": "markdown",
   "metadata": {},
   "source": [
    "## 15.3 技能磨练与实际应用\n",
    "1：***Kaggle***算法大赛平台和***OpenMl***平台  <br>\n",
    "2：***Kaggle***:  <br>\n",
    "    Kaggle是一个为开发商和数据科学家提供***举办机器学习竞赛、托管数据库、编写及分享代码的平台***。www.kaggle.com    <br>\n",
    "3: ***OpneMl***:   <br>\n",
    "    www.openml.org   <br>\n",
    "4: python和sklearn虽然容易上手，但在工业级别的应用也是非常大的。\n",
    "  "
   ]
  },
  {
   "cell_type": "code",
   "execution_count": null,
   "metadata": {},
   "outputs": [],
   "source": []
  }
 ],
 "metadata": {
  "kernelspec": {
   "display_name": "Python 3",
   "language": "python",
   "name": "python3"
  },
  "language_info": {
   "codemirror_mode": {
    "name": "ipython",
    "version": 3
   },
   "file_extension": ".py",
   "mimetype": "text/x-python",
   "name": "python",
   "nbconvert_exporter": "python",
   "pygments_lexer": "ipython3",
   "version": "3.7.4"
  }
 },
 "nbformat": 4,
 "nbformat_minor": 4
}
